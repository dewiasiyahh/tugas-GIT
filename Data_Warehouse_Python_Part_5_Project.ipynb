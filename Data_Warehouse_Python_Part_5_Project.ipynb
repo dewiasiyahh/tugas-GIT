{
  "nbformat": 4,
  "nbformat_minor": 0,
  "metadata": {
    "colab": {
      "provenance": []
    },
    "kernelspec": {
      "name": "python3",
      "display_name": "Python 3"
    },
    "language_info": {
      "name": "python"
    }
  },
  "cells": [
    {
      "cell_type": "code",
      "execution_count": null,
      "metadata": {
        "id": "9KeXjRmgNLm9"
      },
      "outputs": [],
      "source": [
        "import pandas as pd\n",
        "\n",
        "class MarketingDataETL:\n",
        "    def __init__(self, file_path):\n",
        "        self.file_path = file_path\n",
        "        self.data = None\n",
        "\n",
        "    def extract(self):\n",
        "        self.data = pd.read_csv(self.file_path, sep=';')\n",
        "\n",
        "    def transform(self):\n",
        "        pass\n",
        "\n",
        "    def store(self, output_file):\n",
        "        self.data.to_csv(output_file, index=False)\n",
        "\n",
        "class TargetedMarketingETL(MarketingDataETL):\n",
        "    def __init__(self, file_path):\n",
        "        super().__init__(file_path)\n",
        "\n",
        "    def transform(self):\n",
        "        self.data['purchase_date'] = pd.to_datetime(self.data['purchase_date'], format='%d/%m/%y')\n",
        "        self.data['amount_spent'] = pd.to_numeric(self.data['amount_spent'])\n",
        "        self.segment_customers()\n",
        "\n",
        "    def segment_customers(self):\n",
        "        self.data['total_spent'] = self.data['amount_spent'].fillna(0)\n",
        "        self.data['Spending_Category'] = pd.cut(self.data['total_spent'], bins=[0, 100, 500, float('inf')], labels=['Low', 'Medium', 'High'])\n",
        "        self.data['Product_Category'] = self.data['product_category'].fillna('Unknown')\n",
        "\n",
        "if __name__ == \"__main__\":\n",
        "    etl_processor = TargetedMarketingETL(\"marketing_data.csv\")\n",
        "    etl_processor.extract()\n",
        "    etl_processor.transform()\n",
        "    etl_processor.store(\"transformed_marketing_data.csv\")\n"
      ]
    }
  ]
}